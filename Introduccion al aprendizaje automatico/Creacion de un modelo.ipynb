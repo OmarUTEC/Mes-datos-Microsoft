{
 "cells": [
  {
   "attachments": {},
   "cell_type": "markdown",
   "metadata": {},
   "source": [
    "# Ejercicio: Entrena y Ejecuta Tu Primer Modelo\n",
    "\n",
    "Hemos aprendido que los modelos son códigos informáticos que procesan información para hacer una predicción o una decisión. Aquí, entrenaremos un modelo para adivinar el tamaño de botas cómodo para un perro, basado en el tamaño del arnés que le queda.\n",
    "\n",
    "En los ejemplos a continuación, no es necesario editar ningún código. Intenta leerlo, comprenderlo y luego presiona el botón de ejecución para ejecutarlo. Como siempre con estos notebooks, es vitalmente importante que estos bloques de código se ejecuten en el orden correcto y que no se omita nada.\n",
    "\n",
    "# Preparando los datos\n",
    "\n",
    "Lo primero que hacemos con un modelo es cargar los datos. Cubriremos esto con más detalle en un ejercicio posterior. Por ahora, simplemente escribiremos nuestros datos directamente en nuestro código. Revisa y ejecuta el siguiente código para comenzar:"
   ]
  },
  {
   "attachments": {},
   "cell_type": "markdown",
   "metadata": {},
   "source": [
    "**Este código es un ejemplo de cómo cargar datos en un notebook de Jupyter usando Python y la biblioteca Pandas.**\n",
    "\n",
    "Las primeras líneas del código utilizan el comando \"wget\" para descargar dos archivos: \"graphing.py\" y \"doggy-boot-harness.csv\" desde el repositorio \"mslearn-introduction-to-machine-learning\" en GitHub.\n",
    "\n",
    "Luego, se instala la biblioteca \"statsmodels\" usando el comando \"!pip install statsmodels\".\n",
    "\n",
    "A continuación, se crea un diccionario de datos que representa el tamaño de las botas y los arneses de un grupo de perros. Los tamaños se almacenan en dos listas dentro del diccionario: 'boot_size' y 'harness_size'.\n",
    "\n",
    "Se convierte el diccionario de datos en una tabla usando la biblioteca Pandas y se asigna a la variable \"dataset\". Finalmente, la tabla se imprime en la pantalla simplemente escribiendo el nombre de la variable \"dataset\".\n",
    "\n",
    "En general, este código es un ejemplo sencillo de cómo cargar y manipular datos en un notebook de Jupyter usando Python y la biblioteca Pandas."
   ]
  },
  {
   "cell_type": "code",
   "execution_count": null,
   "metadata": {},
   "outputs": [],
   "source": [
    "import pandas\n",
    "!wget https://raw.githubusercontent.com/MicrosoftDocs/mslearn-introduction-to-machine-learning/main/graphing.py\n",
    "!wget https://raw.githubusercontent.com/MicrosoftDocs/mslearn-introduction-to-machine-learning/main/Data/doggy-boot-harness.csv\n",
    "!pip install statsmodels\n",
    "\n",
    "\n",
    "# Make a dictionary of data for boot sizes\n",
    "# and harness size in cm\n",
    "data = {\n",
    "    'boot_size' : [ 39, 38, 37, 39, 38, 35, 37, 36, 35, 40, \n",
    "                    40, 36, 38, 39, 42, 42, 36, 36, 35, 41, \n",
    "                    42, 38, 37, 35, 40, 36, 35, 39, 41, 37, \n",
    "                    35, 41, 39, 41, 42, 42, 36, 37, 37, 39,\n",
    "                    42, 35, 36, 41, 41, 41, 39, 39, 35, 39\n",
    " ],\n",
    "    'harness_size': [ 58, 58, 52, 58, 57, 52, 55, 53, 49, 54,\n",
    "                59, 56, 53, 58, 57, 58, 56, 51, 50, 59,\n",
    "                59, 59, 55, 50, 55, 52, 53, 54, 61, 56,\n",
    "                55, 60, 57, 56, 61, 58, 53, 57, 57, 55,\n",
    "                60, 51, 52, 56, 55, 57, 58, 57, 51, 59\n",
    "                ]\n",
    "}\n",
    "\n",
    "# Convert it into a table using pandas\n",
    "dataset = pandas.DataFrame(data)\n",
    "\n",
    "# Print the data\n",
    "# In normal python we would write\n",
    "# print(dataset)\n",
    "# but in Jupyter notebooks, if we simple write the name\n",
    "# of the variable and it is printed nicely \n",
    "dataset"
   ]
  },
  {
   "attachments": {},
   "cell_type": "markdown",
   "metadata": {},
   "source": [
    "**Como puedes ver, tenemos los tamaños de botas y arneses para 50 perros de avalancha.**\n",
    "\n",
    "Queremos usar el tamaño del arnés para estimar el tamaño de la bota. Esto significa que el tamaño del arnés es nuestra entrada. Queremos un modelo que procese la entrada y haga sus propias estimaciones del tamaño de la bota (salida).\n",
    "\n",
    "# Seleccionar un modelo\n",
    "\n",
    "Lo primero que debemos hacer es seleccionar un modelo. Apenas estamos comenzando, así que empezaremos con un modelo muy simple llamado OLS. Esto es solo una línea recta (a veces llamada línea de tendencia).\n",
    "\n",
    "Usaremos una biblioteca existente para crear nuestro modelo, pero aún no lo entrenaremos."
   ]
  },
  {
   "attachments": {},
   "cell_type": "markdown",
   "metadata": {},
   "source": [
    "# Explicacion del codigo\n",
    "\n",
    "Este código se encarga de seleccionar un modelo para estimar el tamaño de bota más cómodo para un perro de rescate, basado en el tamaño del arnés que le queda. Para esto, utiliza una biblioteca llamada statsmodels que permite crear un modelo de regresión lineal ordinaria (OLS, por sus siglas en inglés) y ajustarlo a los datos.\n",
    "\n",
    "En la primera línea del código, se importa la biblioteca statsmodels.formula.api y se la renombra como smf para facilitar su uso. Luego, se define una fórmula que describe la relación entre las variables boot_size y harness_size en el conjunto de datos. La fórmula indica que la variable boot_size es explicada por la variable harness_size.\n",
    "\n",
    "A continuación, se crea un objeto de modelo model utilizando la fórmula y los datos (dataset). Sin embargo, el modelo aún no se entrena. El último bloque de código simplemente verifica si el modelo ha sido entrenado o no. Si los parámetros internos del modelo no se han establecido todavía, se imprime un mensaje que indica que el modelo ha sido seleccionado pero no entrenado."
   ]
  },
  {
   "cell_type": "code",
   "execution_count": null,
   "metadata": {},
   "outputs": [],
   "source": [
    "# Load a library to do the hard work for us\n",
    "import statsmodels.formula.api as smf\n",
    "\n",
    "# First, we define our formula using a special syntax\n",
    "# This says that boot_size is explained by harness_size\n",
    "formula = \"boot_size ~ harness_size\"\n",
    "\n",
    "# Create the model, but don't train it yet\n",
    "model = smf.ols(formula = formula, data = dataset)\n",
    "\n",
    "# Note that we have created our model but it does not \n",
    "# have internal parameters set yet\n",
    "if not hasattr(model, 'params'):\n",
    "    print(\"Model selected but it does not have parameters set. We need to train it!\")"
   ]
  },
  {
   "attachments": {},
   "cell_type": "markdown",
   "metadata": {},
   "source": [
    "# Entrenar nuestro modelo\n",
    "\n",
    "Los modelos **OLS** tienen dos parámetros (una pendiente y un desplazamiento), pero estos aún no se han establecido en nuestro modelo. Necesitamos entrenar (ajustar) nuestro modelo para encontrar estos valores para que el modelo pueda estimar de manera confiable el tamaño de las botas de los perros según el tamaño de sus arneses.\n",
    "\n",
    "El siguiente código ajusta nuestro modelo a los datos que ya has visto:"
   ]
  },
  {
   "attachments": {},
   "cell_type": "markdown",
   "metadata": {},
   "source": [
    "El código carga la librería \"graphing\" y entrena el modelo OLS para ajustarlo a los datos de entrada. Luego, utiliza el método \"fit()\" para ajustar los parámetros del modelo y crear una línea que se ajuste a los datos. Por último, se imprimen los valores de los parámetros de la línea, que son la pendiente (slope) e intercepto (intercept) de la línea ajustada."
   ]
  },
  {
   "cell_type": "code",
   "execution_count": null,
   "metadata": {},
   "outputs": [],
   "source": [
    "# Load some libraries to do the hard work for us\n",
    "import graphing \n",
    "\n",
    "# Train (fit) the model so that it creates a line that \n",
    "# fits our data. This method does the hard work for\n",
    "# us. We will look at how this method works in a later unit.\n",
    "fitted_model = model.fit()\n",
    "\n",
    "# Print information about our model now it has been fit\n",
    "print(\"The following model parameters have been found:\\n\" +\n",
    "        f\"Line slope: {fitted_model.params[1]}\\n\"+\n",
    "        f\"Line Intercept: {fitted_model.params[0]}\")"
   ]
  },
  {
   "attachments": {},
   "cell_type": "markdown",
   "metadata": {},
   "source": [
    "Observa cómo al entrenar el modelo se establecieron sus parámetros. Podríamos interpretarlos directamente, pero es más fácil verlo en un gráfico:"
   ]
  },
  {
   "cell_type": "code",
   "execution_count": null,
   "metadata": {},
   "outputs": [],
   "source": [
    "import graphing\n",
    "\n",
    "# Show a graph of the result\n",
    "# Don't worry about how this works for now\n",
    "graphing.scatter_2D(dataset,    label_x=\"harness_size\", \n",
    "                                label_y=\"boot_size\",\n",
    "                                trendline=lambda x: fitted_model.params[1] * x + fitted_model.params[0]\n",
    "                                )"
   ]
  },
  {
   "attachments": {},
   "cell_type": "markdown",
   "metadata": {},
   "source": [
    "**El gráfico de arriba muestra nuestros datos originales como círculos con una línea roja a través de ellos. La línea roja muestra nuestro modelo.**\n",
    "\n",
    "Podemos mirar esta línea para entender nuestro modelo. Por ejemplo, podemos ver que a medida que el tamaño del arnés aumenta, también lo hará el tamaño estimado de la bota."
   ]
  },
  {
   "attachments": {},
   "cell_type": "markdown",
   "metadata": {},
   "source": [
    "# Use the model\n",
    "\n",
    "Ahora que hemos terminado el entrenamiento, podemos usar nuestro modelo para predecir el tamaño de las botas de un perro a partir del tamaño de su arnés.\n",
    "\n",
    "Por ejemplo, al mirar la línea roja, podemos ver que un tamaño de arnés de 52,5 (eje x) corresponde a un tamaño de bota de aproximadamente 36,5 (eje y).\n",
    "\n",
    "Sin embargo, no es necesario hacerlo a mano. Podemos usar el modelo en nuestro programa para predecir cualquier tamaño de bota que deseemos. Ejecute el siguiente código para ver cómo podemos usar nuestro modelo ahora que está entrenado:"
   ]
  },
  {
   "cell_type": "code",
   "execution_count": null,
   "metadata": {},
   "outputs": [],
   "source": [
    "# harness_size states the size of the harness we are interested in\n",
    "harness_size = { 'harness_size' : [52.5] }\n",
    "\n",
    "# Use the model to predict what size of boots the dog will fit\n",
    "approximate_boot_size = fitted_model.predict(harness_size)\n",
    "\n",
    "# Print the result\n",
    "print(\"Estimated approximate_boot_size:\")\n",
    "print(approximate_boot_size[0])"
   ]
  },
  {
   "attachments": {},
   "cell_type": "markdown",
   "metadata": {},
   "source": [
    "El código anterior usa el modelo entrenado para predecir el tamaño de las botas aproximado que se ajustaría al tamaño del arnés de 52.5. Primero, se crea un diccionario con la clave 'harness_size' y el valor de la lista [52.5]. Luego, el modelo entrenado se usa para predecir el tamaño de las botas aproximado utilizando la función predict() en el diccionario de entrada 'harness_size'. Finalmente, se imprime el tamaño de las botas aproximado que se ajustaría al tamaño del arnés de 52.5."
   ]
  }
 ],
 "metadata": {
  "kernelspec": {
   "display_name": "Python 3",
   "language": "python",
   "name": "python3"
  },
  "language_info": {
   "codemirror_mode": {
    "name": "ipython",
    "version": 3
   },
   "file_extension": ".py",
   "mimetype": "text/x-python",
   "name": "python",
   "nbconvert_exporter": "python",
   "pygments_lexer": "ipython3",
   "version": "3.10.0"
  },
  "orig_nbformat": 4
 },
 "nbformat": 4,
 "nbformat_minor": 2
}
